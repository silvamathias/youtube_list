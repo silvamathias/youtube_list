{
 "cells": [
  {
   "cell_type": "code",
   "execution_count": 1,
   "metadata": {},
   "outputs": [],
   "source": [
    "import pytube as yt\n",
    "import httpx as hx\n",
    "\n"
   ]
  },
  {
   "cell_type": "code",
   "execution_count": 3,
   "metadata": {},
   "outputs": [],
   "source": [
    "video_list = yt.Playlist('https://www.youtube.com/watch?v=_-G_7y9wAxM&list=PLpB8v4o_VMVFaTzgNfNCAYRQlC5cl8kp2')"
   ]
  },
  {
   "cell_type": "code",
   "execution_count": 4,
   "metadata": {},
   "outputs": [
    {
     "name": "stdout",
     "output_type": "stream",
     "text": [
      "https://www.youtube.com/watch?v=_-G_7y9wAxM\n",
      "https://www.youtube.com/watch?v=fg_FBOvACls\n",
      "https://www.youtube.com/watch?v=S9NAOC-f1ko\n",
      "https://www.youtube.com/watch?v=kYm4sS6x8Ew\n",
      "https://www.youtube.com/watch?v=tDxi3KiwUkY\n",
      "https://www.youtube.com/watch?v=CmHBfk68vys\n",
      "https://www.youtube.com/watch?v=EIltFVlHMfw\n",
      "https://www.youtube.com/watch?v=YV-uWw9HHdA\n",
      "https://www.youtube.com/watch?v=ode240fk-AI\n",
      "https://www.youtube.com/watch?v=xZA68v4ethg\n",
      "https://www.youtube.com/watch?v=gHGgxMHdvwQ\n"
     ]
    }
   ],
   "source": [
    "for m in video_list:\n",
    "    print(m)"
   ]
  },
  {
   "cell_type": "code",
   "execution_count": 5,
   "metadata": {},
   "outputs": [],
   "source": [
    "video = yt.YouTube(video_list[2])"
   ]
  },
  {
   "cell_type": "code",
   "execution_count": 9,
   "metadata": {},
   "outputs": [
    {
     "data": {
      "text/plain": [
       "\"Paulinho da Viola | Cuidado colega (Benedito Lacerda e Pixinguinha) | Álbum 'Memórias chorando'\""
      ]
     },
     "execution_count": 9,
     "metadata": {},
     "output_type": "execute_result"
    }
   ],
   "source": [
    "video.title"
   ]
  },
  {
   "cell_type": "code",
   "execution_count": 11,
   "metadata": {},
   "outputs": [
    {
     "data": {
      "text/plain": [
       "[<Stream: itag=\"139\" mime_type=\"audio/mp4\" abr=\"48kbps\" acodec=\"mp4a.40.5\" progressive=\"False\" type=\"audio\">, <Stream: itag=\"140\" mime_type=\"audio/mp4\" abr=\"128kbps\" acodec=\"mp4a.40.2\" progressive=\"False\" type=\"audio\">, <Stream: itag=\"251\" mime_type=\"audio/webm\" abr=\"160kbps\" acodec=\"opus\" progressive=\"False\" type=\"audio\">]"
      ]
     },
     "execution_count": 11,
     "metadata": {},
     "output_type": "execute_result"
    }
   ],
   "source": [
    "video.streams.filter(only_audio=True)"
   ]
  },
  {
   "cell_type": "code",
   "execution_count": 18,
   "metadata": {},
   "outputs": [],
   "source": [
    "video_list = video.streams.filter(only_audio=True)"
   ]
  },
  {
   "cell_type": "code",
   "execution_count": 19,
   "metadata": {},
   "outputs": [],
   "source": [
    "get_audio(video_list[0])\n",
    "video = yt.YouTube(video_list[0])\n",
    "vd = video.streams.filter(only_audio=True)\n",
    "\n",
    "print('primeiro: {}'.format(vd.first()))\n",
    "print('ultimo: {}'.format(vd.last()))"
   ]
  },
  {
   "cell_type": "code",
   "execution_count": 20,
   "metadata": {},
   "outputs": [
    {
     "name": "stdout",
     "output_type": "stream",
     "text": [
      "<Stream: itag=\"139\" mime_type=\"audio/mp4\" abr=\"48kbps\" acodec=\"mp4a.40.5\" progressive=\"False\" type=\"audio\">\n",
      "<Stream: itag=\"140\" mime_type=\"audio/mp4\" abr=\"128kbps\" acodec=\"mp4a.40.2\" progressive=\"False\" type=\"audio\">\n",
      "<Stream: itag=\"251\" mime_type=\"audio/webm\" abr=\"160kbps\" acodec=\"opus\" progressive=\"False\" type=\"audio\">\n"
     ]
    }
   ],
   "source": [
    "for m in video_list:\n",
    "    print(m)"
   ]
  },
  {
   "cell_type": "code",
   "execution_count": 21,
   "metadata": {},
   "outputs": [
    {
     "data": {
      "text/plain": [
       "'/run/media/mathias/ssd_m2/projetos/dev_projetos/PYTHON/01_Geral/youtube_list/music/Paulinho da Viola  Cuidado colega (Benedito Lacerda e Pixinguinha)  Álbum Memórias chorando.webm'"
      ]
     },
     "execution_count": 21,
     "metadata": {},
     "output_type": "execute_result"
    }
   ],
   "source": [
    "dw.download(output_path='music')"
   ]
  },
  {
   "cell_type": "code",
   "execution_count": 22,
   "metadata": {},
   "outputs": [],
   "source": [
    "def get_audio(url, path = '.'):\n",
    "    video = yt.YouTube(url)\n",
    "    video_list = video.streams.filter(only_audio=True)\n",
    "    dw = video_list.last()\n",
    "    dw.download(output_path= path)"
   ]
  },
  {
   "cell_type": "code",
   "execution_count": 24,
   "metadata": {},
   "outputs": [],
   "source": [
    "get_audio(video_list[1],'music')"
   ]
  }
 ],
 "metadata": {
  "kernelspec": {
   "display_name": "env",
   "language": "python",
   "name": "python3"
  },
  "language_info": {
   "codemirror_mode": {
    "name": "ipython",
    "version": 3
   },
   "file_extension": ".py",
   "mimetype": "text/x-python",
   "name": "python",
   "nbconvert_exporter": "python",
   "pygments_lexer": "ipython3",
   "version": "3.11.6"
  }
 },
 "nbformat": 4,
 "nbformat_minor": 2
}
