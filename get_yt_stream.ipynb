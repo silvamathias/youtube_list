{
 "cells": [
  {
   "cell_type": "code",
   "execution_count": 21,
   "metadata": {},
   "outputs": [],
   "source": [
    "import pytube as yt\n",
    "import httpx as hx\n",
    "import asyncio as io\n",
    "import datetime as dt\n",
    "import os"
   ]
  },
  {
   "cell_type": "code",
   "execution_count": 33,
   "metadata": {},
   "outputs": [],
   "source": [
    "class you_tube():\n",
    "    def __init__ (self, url):\n",
    "        self.url = url\n",
    "        #yt.Playlist\n",
    "        self.yt_list = yt.Playlist(self.url)\n",
    "        self.url_jpg  = yt.YouTube(self.yt_list[0]).thumbnail_url\n",
    "        self.title = self.yt_list.title\n",
    "\n",
    "    def get_url_thumb(self, num_video = 0):\n",
    "        self.url_jpg  = yt.YouTube(self.yt_list[num_video]).thumbnail_url\n",
    "\n",
    "\n",
    "    def get_list(self):\n",
    "        if self.list_type == True:\n",
    "            return self.yt_list\n",
    "        else:\n",
    "            return 'not will informed a url list'\n",
    "\n",
    "\n",
    "    def create_folder(self, folder_name = ''):\n",
    "        if folder_name == '':\n",
    "            folder_name = self.title\n",
    "\n",
    "        try:\n",
    "            os.makedirs(folder_name)\n",
    "            self.folder = folder_name\n",
    "\n",
    "        except OSError as err:\n",
    "            if err.errno == 17:\n",
    "                self.folder = folder_name\n",
    "\n",
    "            print(err)\n",
    "\n",
    "        \n",
    "    def get_thumb(self, path = ''):\n",
    "        if path == '':\n",
    "            path = self.folder\n",
    "\n",
    "        filename = 'Folder.jpg'\n",
    "        \n",
    "        response = hx.get(self.url_jpg)\n",
    "        img = open(path + '/' + filename, 'wb').write(response.content)\n",
    "            \n",
    "    def get_video(self, folder_name = ''):\n",
    "        if folder_name == '':\n",
    "            folder_name = self.folder\n",
    "            \n",
    "        for video in self.yt_list.videos:\n",
    "            video.streams.last().download(output_path = folder_name)\n",
    "        \n",
    "\n",
    "    def get_audio(self, folder_name = ''):\n",
    "        if folder_name == '':\n",
    "            folder_name = self.folder\n",
    "            \n",
    "        for video in self.yt_list.videos:\n",
    "            video.streams.filter(only_audio = True).last().download(output_path = folder_name, filename = video.title + '.mka')\n",
    "\n",
    "\n",
    "    def get_single_audio(url):\n",
    "        video = yt.YouTube(url)\n",
    "\n",
    "        video.streams.filter(only_audio = True).last().download(filename = video.title + '.mka')\n",
    "        "
   ]
  },
  {
   "cell_type": "code",
   "execution_count": 35,
   "metadata": {},
   "outputs": [],
   "source": [
    "list_txt = []\n",
    "with open('yt_list.txt', 'r') as txt:\n",
    "    list_txt = txt.readlines()"
   ]
  },
  {
   "cell_type": "code",
   "execution_count": 36,
   "metadata": {},
   "outputs": [],
   "source": [
    "    \n",
    "for item in list_txt:\n",
    "    new_yt = you_tube(item)\n",
    "    new_yt.title    \n",
    "    new_yt.create_folder()\n",
    "    #new_yt.get_url_thumb(num_video = 13)\n",
    "    new_yt.get_thumb()\n",
    "    new_yt.get_audio()\n"
   ]
  }
 ],
 "metadata": {
  "kernelspec": {
   "display_name": "env",
   "language": "python",
   "name": "python3"
  },
  "language_info": {
   "codemirror_mode": {
    "name": "ipython",
    "version": 3
   },
   "file_extension": ".py",
   "mimetype": "text/x-python",
   "name": "python",
   "nbconvert_exporter": "python",
   "pygments_lexer": "ipython3",
   "version": "3.12.3"
  }
 },
 "nbformat": 4,
 "nbformat_minor": 2
}
